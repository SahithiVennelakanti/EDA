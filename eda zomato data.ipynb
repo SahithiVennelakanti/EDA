{
 "cells": [
  {
   "cell_type": "code",
   "execution_count": 1,
   "id": "7ee8b007",
   "metadata": {},
   "outputs": [],
   "source": [
    "import numpy as np\n",
    "import pandas as pd\n",
    "import seaborn as sns\n",
    "import plotly.express as px"
   ]
  },
  {
   "cell_type": "code",
   "execution_count": 2,
   "id": "9fc64142",
   "metadata": {},
   "outputs": [],
   "source": [
    "df=pd.read_csv(r\"C:\\Users\\SAHITHI V\\Downloads\\zomato_data.csv\")"
   ]
  },
  {
   "cell_type": "code",
   "execution_count": 3,
   "id": "9ea5de44",
   "metadata": {},
   "outputs": [],
   "source": [
    "df1=pd.read_csv(r\"C:\\Users\\SAHITHI V\\Downloads\\Geographical Coordinates.csv\")"
   ]
  },
  {
   "cell_type": "code",
   "execution_count": 4,
   "id": "a6099f39",
   "metadata": {},
   "outputs": [
    {
     "name": "stdout",
     "output_type": "stream",
     "text": [
      "<class 'pandas.core.frame.DataFrame'>\n",
      "RangeIndex: 51717 entries, 0 to 51716\n",
      "Data columns (total 10 columns):\n",
      " #   Column                     Non-Null Count  Dtype \n",
      "---  ------                     --------------  ----- \n",
      " 0   online_order               51717 non-null  object\n",
      " 1   book_table                 51717 non-null  object\n",
      " 2   rate                       43942 non-null  object\n",
      " 3   votes                      51717 non-null  int64 \n",
      " 4   rest_type                  51490 non-null  object\n",
      " 5   dish_liked                 23639 non-null  object\n",
      " 6   cuisines                   51672 non-null  object\n",
      " 7   approx_costfor_two_people  51371 non-null  object\n",
      " 8   listed_intype              51717 non-null  object\n",
      " 9   listed_incity              51717 non-null  object\n",
      "dtypes: int64(1), object(9)\n",
      "memory usage: 3.9+ MB\n"
     ]
    }
   ],
   "source": [
    "df.info()"
   ]
  },
  {
   "cell_type": "code",
   "execution_count": 5,
   "id": "a7df1401",
   "metadata": {},
   "outputs": [
    {
     "data": {
      "text/plain": [
       "(51717, 10)"
      ]
     },
     "execution_count": 5,
     "metadata": {},
     "output_type": "execute_result"
    }
   ],
   "source": [
    "df.shape"
   ]
  },
  {
   "cell_type": "code",
   "execution_count": 6,
   "id": "cc2e6dd7",
   "metadata": {},
   "outputs": [
    {
     "data": {
      "text/plain": [
       "(26, 3)"
      ]
     },
     "execution_count": 6,
     "metadata": {},
     "output_type": "execute_result"
    }
   ],
   "source": [
    "df1.shape"
   ]
  },
  {
   "cell_type": "code",
   "execution_count": null,
   "id": "a5a78517",
   "metadata": {},
   "outputs": [],
   "source": []
  },
  {
   "cell_type": "code",
   "execution_count": 7,
   "id": "60bf9ad7",
   "metadata": {},
   "outputs": [
    {
     "data": {
      "text/html": [
       "<div>\n",
       "<style scoped>\n",
       "    .dataframe tbody tr th:only-of-type {\n",
       "        vertical-align: middle;\n",
       "    }\n",
       "\n",
       "    .dataframe tbody tr th {\n",
       "        vertical-align: top;\n",
       "    }\n",
       "\n",
       "    .dataframe thead th {\n",
       "        text-align: right;\n",
       "    }\n",
       "</style>\n",
       "<table border=\"1\" class=\"dataframe\">\n",
       "  <thead>\n",
       "    <tr style=\"text-align: right;\">\n",
       "      <th></th>\n",
       "      <th>listed_incity</th>\n",
       "      <th>Latitude</th>\n",
       "      <th>Longitude</th>\n",
       "    </tr>\n",
       "  </thead>\n",
       "  <tbody>\n",
       "    <tr>\n",
       "      <th>0</th>\n",
       "      <td>Banashankari</td>\n",
       "      <td>12.939333</td>\n",
       "      <td>77.553982</td>\n",
       "    </tr>\n",
       "    <tr>\n",
       "      <th>1</th>\n",
       "      <td>Bannerghatta Road</td>\n",
       "      <td>12.952660</td>\n",
       "      <td>77.605048</td>\n",
       "    </tr>\n",
       "    <tr>\n",
       "      <th>2</th>\n",
       "      <td>Basavanagudi</td>\n",
       "      <td>12.941726</td>\n",
       "      <td>77.575502</td>\n",
       "    </tr>\n",
       "    <tr>\n",
       "      <th>3</th>\n",
       "      <td>Bellandur</td>\n",
       "      <td>12.925352</td>\n",
       "      <td>77.675941</td>\n",
       "    </tr>\n",
       "    <tr>\n",
       "      <th>4</th>\n",
       "      <td>Brigade Road</td>\n",
       "      <td>12.967358</td>\n",
       "      <td>77.606435</td>\n",
       "    </tr>\n",
       "  </tbody>\n",
       "</table>\n",
       "</div>"
      ],
      "text/plain": [
       "       listed_incity   Latitude  Longitude\n",
       "0       Banashankari  12.939333  77.553982\n",
       "1  Bannerghatta Road  12.952660  77.605048\n",
       "2       Basavanagudi  12.941726  77.575502\n",
       "3          Bellandur  12.925352  77.675941\n",
       "4       Brigade Road  12.967358  77.606435"
      ]
     },
     "execution_count": 7,
     "metadata": {},
     "output_type": "execute_result"
    }
   ],
   "source": [
    "df1.head()"
   ]
  },
  {
   "cell_type": "code",
   "execution_count": 8,
   "id": "e89ee7e1",
   "metadata": {},
   "outputs": [
    {
     "data": {
      "text/plain": [
       "online_order                     0\n",
       "book_table                       0\n",
       "rate                          7775\n",
       "votes                            0\n",
       "rest_type                      227\n",
       "dish_liked                   28078\n",
       "cuisines                        45\n",
       "approx_costfor_two_people      346\n",
       "listed_intype                    0\n",
       "listed_incity                    0\n",
       "dtype: int64"
      ]
     },
     "execution_count": 8,
     "metadata": {},
     "output_type": "execute_result"
    }
   ],
   "source": [
    "df.isnull().sum()"
   ]
  },
  {
   "cell_type": "code",
   "execution_count": 9,
   "id": "de541da9",
   "metadata": {},
   "outputs": [
    {
     "data": {
      "text/plain": [
       "online_order\n",
       "Yes    30444\n",
       "No     21273\n",
       "Name: count, dtype: int64"
      ]
     },
     "execution_count": 9,
     "metadata": {},
     "output_type": "execute_result"
    }
   ],
   "source": [
    "df[\"online_order\"].value_counts()"
   ]
  },
  {
   "cell_type": "code",
   "execution_count": 10,
   "id": "67bd8a37",
   "metadata": {},
   "outputs": [
    {
     "name": "stderr",
     "output_type": "stream",
     "text": [
      "C:\\Users\\SAHITHI V\\AppData\\Local\\Temp\\ipykernel_48836\\1750059825.py:1: FutureWarning: Downcasting behavior in `replace` is deprecated and will be removed in a future version. To retain the old behavior, explicitly call `result.infer_objects(copy=False)`. To opt-in to the future behavior, set `pd.set_option('future.no_silent_downcasting', True)`\n",
      "  df[\"online_order\"]=df[\"online_order\"].replace({\"Yes\":1,\"No\":0})\n"
     ]
    }
   ],
   "source": [
    "df[\"online_order\"]=df[\"online_order\"].replace({\"Yes\":1,\"No\":0})"
   ]
  },
  {
   "cell_type": "code",
   "execution_count": 11,
   "id": "05043998",
   "metadata": {},
   "outputs": [
    {
     "data": {
      "text/plain": [
       "online_order\n",
       "1    30444\n",
       "0    21273\n",
       "Name: count, dtype: int64"
      ]
     },
     "execution_count": 11,
     "metadata": {},
     "output_type": "execute_result"
    }
   ],
   "source": [
    "df[\"online_order\"].value_counts()"
   ]
  },
  {
   "cell_type": "code",
   "execution_count": 12,
   "id": "599ad0f9",
   "metadata": {},
   "outputs": [
    {
     "data": {
      "text/plain": [
       "book_table\n",
       "No     45268\n",
       "Yes     6449\n",
       "Name: count, dtype: int64"
      ]
     },
     "execution_count": 12,
     "metadata": {},
     "output_type": "execute_result"
    }
   ],
   "source": [
    "df[\"book_table\"].value_counts()"
   ]
  },
  {
   "cell_type": "code",
   "execution_count": 13,
   "id": "6c9095dd",
   "metadata": {},
   "outputs": [
    {
     "name": "stderr",
     "output_type": "stream",
     "text": [
      "C:\\Users\\SAHITHI V\\AppData\\Local\\Temp\\ipykernel_48836\\1362550689.py:1: FutureWarning: Downcasting behavior in `replace` is deprecated and will be removed in a future version. To retain the old behavior, explicitly call `result.infer_objects(copy=False)`. To opt-in to the future behavior, set `pd.set_option('future.no_silent_downcasting', True)`\n",
      "  df[\"book_table\"]=df[\"book_table\"].replace({\"Yes\":1,\"No\":0})\n"
     ]
    }
   ],
   "source": [
    "df[\"book_table\"]=df[\"book_table\"].replace({\"Yes\":1,\"No\":0})"
   ]
  },
  {
   "cell_type": "code",
   "execution_count": 14,
   "id": "3fbbdb27",
   "metadata": {},
   "outputs": [
    {
     "data": {
      "text/plain": [
       "book_table\n",
       "0    45268\n",
       "1     6449\n",
       "Name: count, dtype: int64"
      ]
     },
     "execution_count": 14,
     "metadata": {},
     "output_type": "execute_result"
    }
   ],
   "source": [
    "df[\"book_table\"].value_counts()"
   ]
  },
  {
   "cell_type": "code",
   "execution_count": 15,
   "id": "acdbac22",
   "metadata": {},
   "outputs": [
    {
     "data": {
      "text/plain": [
       "array(['4.1/5', '3.8/5', '3.7/5', '3.6/5', '4.6/5', '4.0/5', '4.2/5',\n",
       "       '3.9/5', '3.1/5', '3.0/5', '3.2/5', '3.3/5', '2.8/5', '4.4/5',\n",
       "       '4.3/5', 'NEW', '2.9/5', '3.5/5', nan, '2.6/5', '3.8 /5', '3.4/5',\n",
       "       '4.5/5', '2.5/5', '2.7/5', '4.7/5', '2.4/5', '2.2/5', '2.3/5',\n",
       "       '3.4 /5', '-', '3.6 /5', '4.8/5', '3.9 /5', '4.2 /5', '4.0 /5',\n",
       "       '4.1 /5', '3.7 /5', '3.1 /5', '2.9 /5', '3.3 /5', '2.8 /5',\n",
       "       '3.5 /5', '2.7 /5', '2.5 /5', '3.2 /5', '2.6 /5', '4.5 /5',\n",
       "       '4.3 /5', '4.4 /5', '4.9/5', '2.1/5', '2.0/5', '1.8/5', '4.6 /5',\n",
       "       '4.9 /5', '3.0 /5', '4.8 /5', '2.3 /5', '4.7 /5', '2.4 /5',\n",
       "       '2.1 /5', '2.2 /5', '2.0 /5', '1.8 /5'], dtype=object)"
      ]
     },
     "execution_count": 15,
     "metadata": {},
     "output_type": "execute_result"
    }
   ],
   "source": [
    "df[\"rate\"].unique()"
   ]
  },
  {
   "cell_type": "code",
   "execution_count": 16,
   "id": "a1eeb037",
   "metadata": {},
   "outputs": [],
   "source": [
    "df[\"rate\"]=df[\"rate\"].replace({'-':np.nan,'NEW':np.nan})"
   ]
  },
  {
   "cell_type": "code",
   "execution_count": 17,
   "id": "1477954e",
   "metadata": {},
   "outputs": [
    {
     "data": {
      "text/plain": [
       "array(['4.1/5', '3.8/5', '3.7/5', '3.6/5', '4.6/5', '4.0/5', '4.2/5',\n",
       "       '3.9/5', '3.1/5', '3.0/5', '3.2/5', '3.3/5', '2.8/5', '4.4/5',\n",
       "       '4.3/5', nan, '2.9/5', '3.5/5', '2.6/5', '3.8 /5', '3.4/5',\n",
       "       '4.5/5', '2.5/5', '2.7/5', '4.7/5', '2.4/5', '2.2/5', '2.3/5',\n",
       "       '3.4 /5', '3.6 /5', '4.8/5', '3.9 /5', '4.2 /5', '4.0 /5',\n",
       "       '4.1 /5', '3.7 /5', '3.1 /5', '2.9 /5', '3.3 /5', '2.8 /5',\n",
       "       '3.5 /5', '2.7 /5', '2.5 /5', '3.2 /5', '2.6 /5', '4.5 /5',\n",
       "       '4.3 /5', '4.4 /5', '4.9/5', '2.1/5', '2.0/5', '1.8/5', '4.6 /5',\n",
       "       '4.9 /5', '3.0 /5', '4.8 /5', '2.3 /5', '4.7 /5', '2.4 /5',\n",
       "       '2.1 /5', '2.2 /5', '2.0 /5', '1.8 /5'], dtype=object)"
      ]
     },
     "execution_count": 17,
     "metadata": {},
     "output_type": "execute_result"
    }
   ],
   "source": [
    "df[\"rate\"].unique()"
   ]
  },
  {
   "cell_type": "code",
   "execution_count": 18,
   "id": "4aab5d34",
   "metadata": {},
   "outputs": [
    {
     "data": {
      "text/plain": [
       "array(['4.1', '3.8', '3.7', '3.6', '4.6', '4.0', '4.2', '3.9', '3.1',\n",
       "       '3.0', '3.2', '3.3', '2.8', '4.4', '4.3', 'nan', '2.9', '3.5',\n",
       "       '2.6', '3.8 ', '3.4', '4.5', '2.5', '2.7', '4.7', '2.4', '2.2',\n",
       "       '2.3', '3.4 ', '3.6 ', '4.8', '3.9 ', '4.2 ', '4.0 ', '4.1 ',\n",
       "       '3.7 ', '3.1 ', '2.9 ', '3.3 ', '2.8 ', '3.5 ', '2.7 ', '2.5 ',\n",
       "       '3.2 ', '2.6 ', '4.5 ', '4.3 ', '4.4 ', '4.9', '2.1', '2.0', '1.8',\n",
       "       '4.6 ', '4.9 ', '3.0 ', '4.8 ', '2.3 ', '4.7 ', '2.4 ', '2.1 ',\n",
       "       '2.2 ', '2.0 ', '1.8 '], dtype=object)"
      ]
     },
     "execution_count": 18,
     "metadata": {},
     "output_type": "execute_result"
    }
   ],
   "source": [
    "df[\"rate\"]=df[\"rate\"].apply(lambda x:str(x).replace('/5',''))\n",
    "df[\"rate\"].unique()"
   ]
  },
  {
   "cell_type": "code",
   "execution_count": 19,
   "id": "6b6630d0",
   "metadata": {},
   "outputs": [],
   "source": [
    "df[\"rate\"]=df[\"rate\"].replace(\"nan\",np.nan)"
   ]
  },
  {
   "cell_type": "code",
   "execution_count": 20,
   "id": "4bf94b53",
   "metadata": {},
   "outputs": [],
   "source": [
    "df[\"rate\"]=pd.to_numeric(df[\"rate\"])"
   ]
  },
  {
   "cell_type": "code",
   "execution_count": 21,
   "id": "db1293f0",
   "metadata": {},
   "outputs": [
    {
     "name": "stderr",
     "output_type": "stream",
     "text": [
      "C:\\Users\\SAHITHI V\\AppData\\Local\\Temp\\ipykernel_48836\\1159463601.py:1: FutureWarning: A value is trying to be set on a copy of a DataFrame or Series through chained assignment using an inplace method.\n",
      "The behavior will change in pandas 3.0. This inplace method will never work because the intermediate object on which we are setting values always behaves as a copy.\n",
      "\n",
      "For example, when doing 'df[col].method(value, inplace=True)', try using 'df.method({col: value}, inplace=True)' or df[col] = df[col].method(value) instead, to perform the operation inplace on the original object.\n",
      "\n",
      "\n",
      "  df[\"rate\"].fillna(df[\"rate\"].median(),inplace=True)\n"
     ]
    }
   ],
   "source": [
    "df[\"rate\"].fillna(df[\"rate\"].median(),inplace=True)"
   ]
  },
  {
   "cell_type": "code",
   "execution_count": 22,
   "id": "4085df24",
   "metadata": {},
   "outputs": [
    {
     "data": {
      "text/plain": [
       "0"
      ]
     },
     "execution_count": 22,
     "metadata": {},
     "output_type": "execute_result"
    }
   ],
   "source": [
    "df[\"rate\"].isnull().sum()"
   ]
  },
  {
   "cell_type": "code",
   "execution_count": 23,
   "id": "ae007d4d",
   "metadata": {},
   "outputs": [
    {
     "data": {
      "text/plain": [
       "Index(['online_order', 'book_table', 'rate', 'votes', 'rest_type',\n",
       "       'dish_liked', 'cuisines', 'approx_costfor_two_people', 'listed_intype',\n",
       "       'listed_incity'],\n",
       "      dtype='object')"
      ]
     },
     "execution_count": 23,
     "metadata": {},
     "output_type": "execute_result"
    }
   ],
   "source": [
    "df.columns"
   ]
  },
  {
   "cell_type": "code",
   "execution_count": 24,
   "id": "9bcb6cc2",
   "metadata": {},
   "outputs": [
    {
     "data": {
      "text/plain": [
       "array(['800', '300', '600', '700', '550', '500', '450', '650', '400',\n",
       "       '900', '200', '750', '150', '850', '100', '1,200', '350', '250',\n",
       "       '950', '1,000', '1,500', '1,300', '199', '80', '1,100', '160',\n",
       "       '1,600', '230', '130', '50', '190', '1,700', nan, '1,400', '180',\n",
       "       '1,350', '2,200', '2,000', '1,800', '1,900', '330', '2,500',\n",
       "       '2,100', '3,000', '2,800', '3,400', '40', '1,250', '3,500',\n",
       "       '4,000', '2,400', '2,600', '120', '1,450', '469', '70', '3,200',\n",
       "       '60', '560', '240', '360', '6,000', '1,050', '2,300', '4,100',\n",
       "       '5,000', '3,700', '1,650', '2,700', '4,500', '140'], dtype=object)"
      ]
     },
     "execution_count": 24,
     "metadata": {},
     "output_type": "execute_result"
    }
   ],
   "source": [
    "df[\"approx_costfor_two_people\"].unique()"
   ]
  },
  {
   "cell_type": "code",
   "execution_count": 25,
   "id": "a73553df",
   "metadata": {},
   "outputs": [],
   "source": [
    "df[\"approx_costfor_two_people\"]=df[\"approx_costfor_two_people\"].apply(lambda x:str(x).replace(',',''))"
   ]
  },
  {
   "cell_type": "code",
   "execution_count": 26,
   "id": "193f8e7d",
   "metadata": {},
   "outputs": [],
   "source": [
    "df[\"approx_costfor_two_people\"]=df[\"approx_costfor_two_people\"].replace({\"nan\":np.nan})"
   ]
  },
  {
   "cell_type": "code",
   "execution_count": 27,
   "id": "6ea6b166",
   "metadata": {},
   "outputs": [],
   "source": [
    "df[\"approx_costfor_two_people\"]=pd.to_numeric(df[\"approx_costfor_two_people\"])"
   ]
  },
  {
   "cell_type": "code",
   "execution_count": 28,
   "id": "ad7a261a",
   "metadata": {},
   "outputs": [
    {
     "name": "stderr",
     "output_type": "stream",
     "text": [
      "C:\\Users\\SAHITHI V\\AppData\\Local\\Temp\\ipykernel_48836\\102310705.py:1: FutureWarning: A value is trying to be set on a copy of a DataFrame or Series through chained assignment using an inplace method.\n",
      "The behavior will change in pandas 3.0. This inplace method will never work because the intermediate object on which we are setting values always behaves as a copy.\n",
      "\n",
      "For example, when doing 'df[col].method(value, inplace=True)', try using 'df.method({col: value}, inplace=True)' or df[col] = df[col].method(value) instead, to perform the operation inplace on the original object.\n",
      "\n",
      "\n",
      "  df[\"approx_costfor_two_people\"].fillna(df[\"approx_costfor_two_people\"].median(),inplace=True)\n"
     ]
    }
   ],
   "source": [
    "df[\"approx_costfor_two_people\"].fillna(df[\"approx_costfor_two_people\"].median(),inplace=True)"
   ]
  },
  {
   "cell_type": "code",
   "execution_count": 29,
   "id": "5c9e464a",
   "metadata": {},
   "outputs": [
    {
     "data": {
      "text/plain": [
       "0"
      ]
     },
     "execution_count": 29,
     "metadata": {},
     "output_type": "execute_result"
    }
   ],
   "source": [
    "df[\"votes\"].isnull().sum()"
   ]
  },
  {
   "cell_type": "code",
   "execution_count": 30,
   "id": "71247288",
   "metadata": {},
   "outputs": [
    {
     "data": {
      "text/plain": [
       "array(['Casual Dining', 'Cafe, Casual Dining', 'Quick Bites',\n",
       "       'Casual Dining, Cafe', 'Cafe', 'Quick Bites, Cafe',\n",
       "       'Cafe, Quick Bites', 'Delivery', 'Mess', 'Dessert Parlor',\n",
       "       'Bakery, Dessert Parlor', 'Pub', 'Bakery', 'Takeaway, Delivery',\n",
       "       'Fine Dining', 'Beverage Shop', 'Sweet Shop', 'Bar',\n",
       "       'Beverage Shop, Quick Bites', 'Confectionery',\n",
       "       'Quick Bites, Beverage Shop', 'Dessert Parlor, Sweet Shop',\n",
       "       'Bakery, Quick Bites', 'Sweet Shop, Quick Bites', 'Kiosk',\n",
       "       'Food Truck', 'Quick Bites, Dessert Parlor',\n",
       "       'Beverage Shop, Dessert Parlor', 'Takeaway', 'Pub, Casual Dining',\n",
       "       'Casual Dining, Bar', 'Dessert Parlor, Beverage Shop',\n",
       "       'Quick Bites, Bakery', 'Dessert Parlor, Quick Bites',\n",
       "       'Microbrewery, Casual Dining', 'Lounge', 'Bar, Casual Dining',\n",
       "       'Food Court', 'Cafe, Bakery', nan, 'Dhaba',\n",
       "       'Quick Bites, Sweet Shop', 'Microbrewery',\n",
       "       'Food Court, Quick Bites', 'Pub, Bar', 'Casual Dining, Pub',\n",
       "       'Lounge, Bar', 'Food Court, Dessert Parlor',\n",
       "       'Casual Dining, Sweet Shop', 'Food Court, Casual Dining',\n",
       "       'Casual Dining, Microbrewery', 'Sweet Shop, Dessert Parlor',\n",
       "       'Bakery, Beverage Shop', 'Lounge, Casual Dining',\n",
       "       'Cafe, Food Court', 'Beverage Shop, Cafe', 'Cafe, Dessert Parlor',\n",
       "       'Dessert Parlor, Cafe', 'Dessert Parlor, Bakery',\n",
       "       'Microbrewery, Pub', 'Bakery, Food Court', 'Club',\n",
       "       'Quick Bites, Food Court', 'Bakery, Cafe', 'Bar, Cafe',\n",
       "       'Pub, Cafe', 'Casual Dining, Irani Cafee', 'Fine Dining, Lounge',\n",
       "       'Bar, Quick Bites', 'Bakery, Kiosk', 'Pub, Microbrewery',\n",
       "       'Microbrewery, Lounge', 'Fine Dining, Microbrewery',\n",
       "       'Fine Dining, Bar', 'Mess, Quick Bites', 'Dessert Parlor, Kiosk',\n",
       "       'Bhojanalya', 'Casual Dining, Quick Bites', 'Pop Up', 'Cafe, Bar',\n",
       "       'Casual Dining, Lounge', 'Bakery, Sweet Shop', 'Microbrewery, Bar',\n",
       "       'Cafe, Lounge', 'Bar, Pub', 'Lounge, Cafe', 'Club, Casual Dining',\n",
       "       'Quick Bites, Mess', 'Quick Bites, Meat Shop',\n",
       "       'Quick Bites, Kiosk', 'Lounge, Microbrewery',\n",
       "       'Food Court, Beverage Shop', 'Dessert Parlor, Food Court',\n",
       "       'Bar, Lounge'], dtype=object)"
      ]
     },
     "execution_count": 30,
     "metadata": {},
     "output_type": "execute_result"
    }
   ],
   "source": [
    "df[\"rest_type\"].unique()"
   ]
  },
  {
   "cell_type": "code",
   "execution_count": 31,
   "id": "abca99e5",
   "metadata": {},
   "outputs": [
    {
     "name": "stderr",
     "output_type": "stream",
     "text": [
      "C:\\Users\\SAHITHI V\\AppData\\Local\\Temp\\ipykernel_48836\\3173911608.py:1: FutureWarning: A value is trying to be set on a copy of a DataFrame or Series through chained assignment using an inplace method.\n",
      "The behavior will change in pandas 3.0. This inplace method will never work because the intermediate object on which we are setting values always behaves as a copy.\n",
      "\n",
      "For example, when doing 'df[col].method(value, inplace=True)', try using 'df.method({col: value}, inplace=True)' or df[col] = df[col].method(value) instead, to perform the operation inplace on the original object.\n",
      "\n",
      "\n",
      "  df[\"rest_type\"].replace({np.nan:\"Unknown\"},inplace=True)\n"
     ]
    }
   ],
   "source": [
    "df[\"rest_type\"].replace({np.nan:\"Unknown\"},inplace=True)"
   ]
  },
  {
   "cell_type": "code",
   "execution_count": 32,
   "id": "30e5e9af",
   "metadata": {},
   "outputs": [
    {
     "name": "stderr",
     "output_type": "stream",
     "text": [
      "C:\\Users\\SAHITHI V\\AppData\\Local\\Temp\\ipykernel_48836\\2280062606.py:1: FutureWarning: A value is trying to be set on a copy of a DataFrame or Series through chained assignment using an inplace method.\n",
      "The behavior will change in pandas 3.0. This inplace method will never work because the intermediate object on which we are setting values always behaves as a copy.\n",
      "\n",
      "For example, when doing 'df[col].method(value, inplace=True)', try using 'df.method({col: value}, inplace=True)' or df[col] = df[col].method(value) instead, to perform the operation inplace on the original object.\n",
      "\n",
      "\n",
      "  df[\"dish_liked\"].replace({np.nan:\"Not Available\"},inplace=True)\n"
     ]
    }
   ],
   "source": [
    "df[\"dish_liked\"].replace({np.nan:\"Not Available\"},inplace=True)"
   ]
  },
  {
   "cell_type": "code",
   "execution_count": 33,
   "id": "d4e18013",
   "metadata": {},
   "outputs": [
    {
     "name": "stderr",
     "output_type": "stream",
     "text": [
      "C:\\Users\\SAHITHI V\\AppData\\Local\\Temp\\ipykernel_48836\\2524323534.py:1: FutureWarning: A value is trying to be set on a copy of a DataFrame or Series through chained assignment using an inplace method.\n",
      "The behavior will change in pandas 3.0. This inplace method will never work because the intermediate object on which we are setting values always behaves as a copy.\n",
      "\n",
      "For example, when doing 'df[col].method(value, inplace=True)', try using 'df.method({col: value}, inplace=True)' or df[col] = df[col].method(value) instead, to perform the operation inplace on the original object.\n",
      "\n",
      "\n",
      "  df[\"cuisines\"].replace({np.nan:\"Other\"},inplace=True)\n"
     ]
    }
   ],
   "source": [
    "df[\"cuisines\"].replace({np.nan:\"Other\"},inplace=True)"
   ]
  },
  {
   "cell_type": "code",
   "execution_count": 34,
   "id": "b1d788f6",
   "metadata": {},
   "outputs": [
    {
     "name": "stdout",
     "output_type": "stream",
     "text": [
      "<class 'pandas.core.frame.DataFrame'>\n",
      "RangeIndex: 51717 entries, 0 to 51716\n",
      "Data columns (total 10 columns):\n",
      " #   Column                     Non-Null Count  Dtype  \n",
      "---  ------                     --------------  -----  \n",
      " 0   online_order               51717 non-null  int64  \n",
      " 1   book_table                 51717 non-null  int64  \n",
      " 2   rate                       51717 non-null  float64\n",
      " 3   votes                      51717 non-null  int64  \n",
      " 4   rest_type                  51717 non-null  object \n",
      " 5   dish_liked                 51717 non-null  object \n",
      " 6   cuisines                   51717 non-null  object \n",
      " 7   approx_costfor_two_people  51717 non-null  float64\n",
      " 8   listed_intype              51717 non-null  object \n",
      " 9   listed_incity              51717 non-null  object \n",
      "dtypes: float64(2), int64(3), object(5)\n",
      "memory usage: 3.9+ MB\n"
     ]
    }
   ],
   "source": [
    "df.info()"
   ]
  },
  {
   "cell_type": "code",
   "execution_count": 35,
   "id": "beb9187d",
   "metadata": {},
   "outputs": [
    {
     "data": {
      "text/plain": [
       "online_order                 0\n",
       "book_table                   0\n",
       "rate                         0\n",
       "votes                        0\n",
       "rest_type                    0\n",
       "dish_liked                   0\n",
       "cuisines                     0\n",
       "approx_costfor_two_people    0\n",
       "listed_intype                0\n",
       "listed_incity                0\n",
       "dtype: int64"
      ]
     },
     "execution_count": 35,
     "metadata": {},
     "output_type": "execute_result"
    }
   ],
   "source": [
    "df.isnull().sum()"
   ]
  },
  {
   "cell_type": "code",
   "execution_count": 36,
   "id": "a7e71c5b",
   "metadata": {},
   "outputs": [],
   "source": [
    "merged_data=pd.merge(df, df1, on='listed_incity', how='left')"
   ]
  },
  {
   "cell_type": "code",
   "execution_count": 37,
   "id": "9c50340e",
   "metadata": {},
   "outputs": [
    {
     "data": {
      "text/html": [
       "<div>\n",
       "<style scoped>\n",
       "    .dataframe tbody tr th:only-of-type {\n",
       "        vertical-align: middle;\n",
       "    }\n",
       "\n",
       "    .dataframe tbody tr th {\n",
       "        vertical-align: top;\n",
       "    }\n",
       "\n",
       "    .dataframe thead th {\n",
       "        text-align: right;\n",
       "    }\n",
       "</style>\n",
       "<table border=\"1\" class=\"dataframe\">\n",
       "  <thead>\n",
       "    <tr style=\"text-align: right;\">\n",
       "      <th></th>\n",
       "      <th>online_order</th>\n",
       "      <th>book_table</th>\n",
       "      <th>rate</th>\n",
       "      <th>votes</th>\n",
       "      <th>rest_type</th>\n",
       "      <th>dish_liked</th>\n",
       "      <th>cuisines</th>\n",
       "      <th>approx_costfor_two_people</th>\n",
       "      <th>listed_intype</th>\n",
       "      <th>listed_incity</th>\n",
       "      <th>Latitude</th>\n",
       "      <th>Longitude</th>\n",
       "    </tr>\n",
       "  </thead>\n",
       "  <tbody>\n",
       "    <tr>\n",
       "      <th>0</th>\n",
       "      <td>1</td>\n",
       "      <td>1</td>\n",
       "      <td>4.1</td>\n",
       "      <td>775</td>\n",
       "      <td>Casual Dining</td>\n",
       "      <td>Pasta, Lunch Buffet, Masala Papad, Paneer Laja...</td>\n",
       "      <td>North Indian, Mughlai, Chinese</td>\n",
       "      <td>800.0</td>\n",
       "      <td>Buffet</td>\n",
       "      <td>Banashankari</td>\n",
       "      <td>12.939333</td>\n",
       "      <td>77.553982</td>\n",
       "    </tr>\n",
       "    <tr>\n",
       "      <th>1</th>\n",
       "      <td>1</td>\n",
       "      <td>0</td>\n",
       "      <td>4.1</td>\n",
       "      <td>787</td>\n",
       "      <td>Casual Dining</td>\n",
       "      <td>Momos, Lunch Buffet, Chocolate Nirvana, Thai G...</td>\n",
       "      <td>Chinese, North Indian, Thai</td>\n",
       "      <td>800.0</td>\n",
       "      <td>Buffet</td>\n",
       "      <td>Banashankari</td>\n",
       "      <td>12.939333</td>\n",
       "      <td>77.553982</td>\n",
       "    </tr>\n",
       "    <tr>\n",
       "      <th>2</th>\n",
       "      <td>1</td>\n",
       "      <td>0</td>\n",
       "      <td>3.8</td>\n",
       "      <td>918</td>\n",
       "      <td>Cafe, Casual Dining</td>\n",
       "      <td>Churros, Cannelloni, Minestrone Soup, Hot Choc...</td>\n",
       "      <td>Cafe, Mexican, Italian</td>\n",
       "      <td>800.0</td>\n",
       "      <td>Buffet</td>\n",
       "      <td>Banashankari</td>\n",
       "      <td>12.939333</td>\n",
       "      <td>77.553982</td>\n",
       "    </tr>\n",
       "    <tr>\n",
       "      <th>3</th>\n",
       "      <td>0</td>\n",
       "      <td>0</td>\n",
       "      <td>3.7</td>\n",
       "      <td>88</td>\n",
       "      <td>Quick Bites</td>\n",
       "      <td>Masala Dosa</td>\n",
       "      <td>South Indian, North Indian</td>\n",
       "      <td>300.0</td>\n",
       "      <td>Buffet</td>\n",
       "      <td>Banashankari</td>\n",
       "      <td>12.939333</td>\n",
       "      <td>77.553982</td>\n",
       "    </tr>\n",
       "    <tr>\n",
       "      <th>4</th>\n",
       "      <td>0</td>\n",
       "      <td>0</td>\n",
       "      <td>3.8</td>\n",
       "      <td>166</td>\n",
       "      <td>Casual Dining</td>\n",
       "      <td>Panipuri, Gol Gappe</td>\n",
       "      <td>North Indian, Rajasthani</td>\n",
       "      <td>600.0</td>\n",
       "      <td>Buffet</td>\n",
       "      <td>Banashankari</td>\n",
       "      <td>12.939333</td>\n",
       "      <td>77.553982</td>\n",
       "    </tr>\n",
       "    <tr>\n",
       "      <th>...</th>\n",
       "      <td>...</td>\n",
       "      <td>...</td>\n",
       "      <td>...</td>\n",
       "      <td>...</td>\n",
       "      <td>...</td>\n",
       "      <td>...</td>\n",
       "      <td>...</td>\n",
       "      <td>...</td>\n",
       "      <td>...</td>\n",
       "      <td>...</td>\n",
       "      <td>...</td>\n",
       "      <td>...</td>\n",
       "    </tr>\n",
       "    <tr>\n",
       "      <th>51712</th>\n",
       "      <td>0</td>\n",
       "      <td>0</td>\n",
       "      <td>3.6</td>\n",
       "      <td>27</td>\n",
       "      <td>Bar</td>\n",
       "      <td>Not Available</td>\n",
       "      <td>Continental</td>\n",
       "      <td>1500.0</td>\n",
       "      <td>Pubs and bars</td>\n",
       "      <td>Whitefield</td>\n",
       "      <td>NaN</td>\n",
       "      <td>NaN</td>\n",
       "    </tr>\n",
       "    <tr>\n",
       "      <th>51713</th>\n",
       "      <td>0</td>\n",
       "      <td>0</td>\n",
       "      <td>3.7</td>\n",
       "      <td>0</td>\n",
       "      <td>Bar</td>\n",
       "      <td>Not Available</td>\n",
       "      <td>Finger Food</td>\n",
       "      <td>600.0</td>\n",
       "      <td>Pubs and bars</td>\n",
       "      <td>Whitefield</td>\n",
       "      <td>NaN</td>\n",
       "      <td>NaN</td>\n",
       "    </tr>\n",
       "    <tr>\n",
       "      <th>51714</th>\n",
       "      <td>0</td>\n",
       "      <td>0</td>\n",
       "      <td>3.7</td>\n",
       "      <td>0</td>\n",
       "      <td>Bar</td>\n",
       "      <td>Not Available</td>\n",
       "      <td>Finger Food</td>\n",
       "      <td>2000.0</td>\n",
       "      <td>Pubs and bars</td>\n",
       "      <td>Whitefield</td>\n",
       "      <td>NaN</td>\n",
       "      <td>NaN</td>\n",
       "    </tr>\n",
       "    <tr>\n",
       "      <th>51715</th>\n",
       "      <td>0</td>\n",
       "      <td>1</td>\n",
       "      <td>4.3</td>\n",
       "      <td>236</td>\n",
       "      <td>Bar</td>\n",
       "      <td>Cocktails, Pizza, Buttermilk</td>\n",
       "      <td>Finger Food</td>\n",
       "      <td>2500.0</td>\n",
       "      <td>Pubs and bars</td>\n",
       "      <td>Whitefield</td>\n",
       "      <td>NaN</td>\n",
       "      <td>NaN</td>\n",
       "    </tr>\n",
       "    <tr>\n",
       "      <th>51716</th>\n",
       "      <td>0</td>\n",
       "      <td>0</td>\n",
       "      <td>3.4</td>\n",
       "      <td>13</td>\n",
       "      <td>Bar, Casual Dining</td>\n",
       "      <td>Not Available</td>\n",
       "      <td>Finger Food, North Indian, Continental</td>\n",
       "      <td>1500.0</td>\n",
       "      <td>Pubs and bars</td>\n",
       "      <td>Whitefield</td>\n",
       "      <td>NaN</td>\n",
       "      <td>NaN</td>\n",
       "    </tr>\n",
       "  </tbody>\n",
       "</table>\n",
       "<p>51717 rows × 12 columns</p>\n",
       "</div>"
      ],
      "text/plain": [
       "       online_order  book_table  rate  votes            rest_type  \\\n",
       "0                 1           1   4.1    775        Casual Dining   \n",
       "1                 1           0   4.1    787        Casual Dining   \n",
       "2                 1           0   3.8    918  Cafe, Casual Dining   \n",
       "3                 0           0   3.7     88          Quick Bites   \n",
       "4                 0           0   3.8    166        Casual Dining   \n",
       "...             ...         ...   ...    ...                  ...   \n",
       "51712             0           0   3.6     27                  Bar   \n",
       "51713             0           0   3.7      0                  Bar   \n",
       "51714             0           0   3.7      0                  Bar   \n",
       "51715             0           1   4.3    236                  Bar   \n",
       "51716             0           0   3.4     13   Bar, Casual Dining   \n",
       "\n",
       "                                              dish_liked  \\\n",
       "0      Pasta, Lunch Buffet, Masala Papad, Paneer Laja...   \n",
       "1      Momos, Lunch Buffet, Chocolate Nirvana, Thai G...   \n",
       "2      Churros, Cannelloni, Minestrone Soup, Hot Choc...   \n",
       "3                                            Masala Dosa   \n",
       "4                                    Panipuri, Gol Gappe   \n",
       "...                                                  ...   \n",
       "51712                                      Not Available   \n",
       "51713                                      Not Available   \n",
       "51714                                      Not Available   \n",
       "51715                       Cocktails, Pizza, Buttermilk   \n",
       "51716                                      Not Available   \n",
       "\n",
       "                                     cuisines  approx_costfor_two_people  \\\n",
       "0              North Indian, Mughlai, Chinese                      800.0   \n",
       "1                 Chinese, North Indian, Thai                      800.0   \n",
       "2                      Cafe, Mexican, Italian                      800.0   \n",
       "3                  South Indian, North Indian                      300.0   \n",
       "4                    North Indian, Rajasthani                      600.0   \n",
       "...                                       ...                        ...   \n",
       "51712                             Continental                     1500.0   \n",
       "51713                             Finger Food                      600.0   \n",
       "51714                             Finger Food                     2000.0   \n",
       "51715                             Finger Food                     2500.0   \n",
       "51716  Finger Food, North Indian, Continental                     1500.0   \n",
       "\n",
       "       listed_intype listed_incity   Latitude  Longitude  \n",
       "0             Buffet  Banashankari  12.939333  77.553982  \n",
       "1             Buffet  Banashankari  12.939333  77.553982  \n",
       "2             Buffet  Banashankari  12.939333  77.553982  \n",
       "3             Buffet  Banashankari  12.939333  77.553982  \n",
       "4             Buffet  Banashankari  12.939333  77.553982  \n",
       "...              ...           ...        ...        ...  \n",
       "51712  Pubs and bars    Whitefield        NaN        NaN  \n",
       "51713  Pubs and bars    Whitefield        NaN        NaN  \n",
       "51714  Pubs and bars    Whitefield        NaN        NaN  \n",
       "51715  Pubs and bars    Whitefield        NaN        NaN  \n",
       "51716  Pubs and bars    Whitefield        NaN        NaN  \n",
       "\n",
       "[51717 rows x 12 columns]"
      ]
     },
     "execution_count": 37,
     "metadata": {},
     "output_type": "execute_result"
    }
   ],
   "source": [
    "merged_data"
   ]
  },
  {
   "cell_type": "markdown",
   "id": "1a0b95c3",
   "metadata": {},
   "source": [
    "# How many restaurants serve North Indian cuisine?"
   ]
  },
  {
   "cell_type": "code",
   "execution_count": 38,
   "id": "68a5442c",
   "metadata": {},
   "outputs": [],
   "source": [
    "cuisines=merged_data[\"cuisines\"].str.lower().str.replace(\" \",\"\")"
   ]
  },
  {
   "cell_type": "code",
   "execution_count": 39,
   "id": "67171894",
   "metadata": {},
   "outputs": [
    {
     "data": {
      "text/plain": [
       "array(['northindian,mughlai,chinese', 'chinese,northindian,thai',\n",
       "       'cafe,mexican,italian', ..., 'northindian,streetfood,biryani',\n",
       "       'chinese,mughlai', 'northindian,chinese,arabian,momos'],\n",
       "      dtype=object)"
      ]
     },
     "execution_count": 39,
     "metadata": {},
     "output_type": "execute_result"
    }
   ],
   "source": [
    "cuisines.unique()"
   ]
  },
  {
   "cell_type": "code",
   "execution_count": 40,
   "id": "8da088f1",
   "metadata": {},
   "outputs": [],
   "source": [
    "north_indian=cuisines.str.find(\"northindian\")"
   ]
  },
  {
   "cell_type": "code",
   "execution_count": 41,
   "id": "affe29da",
   "metadata": {},
   "outputs": [
    {
     "data": {
      "text/plain": [
       "(21085,)"
      ]
     },
     "execution_count": 41,
     "metadata": {},
     "output_type": "execute_result"
    }
   ],
   "source": [
    "north_indian[north_indian!=-1].shape"
   ]
  },
  {
   "cell_type": "code",
   "execution_count": 42,
   "id": "ba42923a",
   "metadata": {},
   "outputs": [],
   "source": [
    "# so there are totally 21085 restaurants serve north indian cuisine"
   ]
  },
  {
   "cell_type": "markdown",
   "id": "4d715f46",
   "metadata": {},
   "source": [
    "# What cuisine is most commonly offered by restaurants in Bangalore?"
   ]
  },
  {
   "cell_type": "code",
   "execution_count": 43,
   "id": "2153794a",
   "metadata": {},
   "outputs": [
    {
     "data": {
      "text/plain": [
       "Index(['online_order', 'book_table', 'rate', 'votes', 'rest_type',\n",
       "       'dish_liked', 'cuisines', 'approx_costfor_two_people', 'listed_intype',\n",
       "       'listed_incity', 'Latitude', 'Longitude'],\n",
       "      dtype='object')"
      ]
     },
     "execution_count": 43,
     "metadata": {},
     "output_type": "execute_result"
    }
   ],
   "source": [
    "merged_data.columns"
   ]
  },
  {
   "cell_type": "code",
   "execution_count": 44,
   "id": "bb67618e",
   "metadata": {},
   "outputs": [],
   "source": [
    "list_of_cuisines=merged_data[\"cuisines\"].values.tolist()"
   ]
  },
  {
   "cell_type": "code",
   "execution_count": 45,
   "id": "72862301",
   "metadata": {},
   "outputs": [],
   "source": [
    "list_of_cuisines=[i.split(\",\") for i in list_of_cuisines]"
   ]
  },
  {
   "cell_type": "code",
   "execution_count": 46,
   "id": "b963b558",
   "metadata": {},
   "outputs": [],
   "source": [
    "list_of_cuisines=[j.strip()  for i in list_of_cuisines for j in i]"
   ]
  },
  {
   "cell_type": "code",
   "execution_count": 47,
   "id": "cc2beaee",
   "metadata": {},
   "outputs": [],
   "source": [
    "list_of_cuisines=pd.Series(list_of_cuisines)"
   ]
  },
  {
   "cell_type": "code",
   "execution_count": 48,
   "id": "088efc06",
   "metadata": {},
   "outputs": [
    {
     "data": {
      "text/plain": [
       "North Indian    21085\n",
       "Chinese         15547\n",
       "South Indian     8644\n",
       "Fast Food        8096\n",
       "Biryani          6492\n",
       "                ...  \n",
       "Sindhi              4\n",
       "Pan Asian           3\n",
       "Hot dogs            3\n",
       "Indian              2\n",
       "Malwani             2\n",
       "Name: count, Length: 108, dtype: int64"
      ]
     },
     "execution_count": 48,
     "metadata": {},
     "output_type": "execute_result"
    }
   ],
   "source": [
    "list_of_cuisines.value_counts()"
   ]
  },
  {
   "cell_type": "markdown",
   "id": "bc8e4acb",
   "metadata": {},
   "source": [
    "# Which locality in Bangalore has the highest average cost for dining (for two people)?"
   ]
  },
  {
   "cell_type": "code",
   "execution_count": 49,
   "id": "a5398033",
   "metadata": {},
   "outputs": [
    {
     "data": {
      "text/html": [
       "<div>\n",
       "<style scoped>\n",
       "    .dataframe tbody tr th:only-of-type {\n",
       "        vertical-align: middle;\n",
       "    }\n",
       "\n",
       "    .dataframe tbody tr th {\n",
       "        vertical-align: top;\n",
       "    }\n",
       "\n",
       "    .dataframe thead th {\n",
       "        text-align: right;\n",
       "    }\n",
       "</style>\n",
       "<table border=\"1\" class=\"dataframe\">\n",
       "  <thead>\n",
       "    <tr style=\"text-align: right;\">\n",
       "      <th></th>\n",
       "      <th>online_order</th>\n",
       "      <th>book_table</th>\n",
       "      <th>rate</th>\n",
       "      <th>votes</th>\n",
       "      <th>rest_type</th>\n",
       "      <th>dish_liked</th>\n",
       "      <th>cuisines</th>\n",
       "      <th>approx_costfor_two_people</th>\n",
       "      <th>listed_intype</th>\n",
       "      <th>listed_incity</th>\n",
       "      <th>Latitude</th>\n",
       "      <th>Longitude</th>\n",
       "    </tr>\n",
       "  </thead>\n",
       "  <tbody>\n",
       "    <tr>\n",
       "      <th>0</th>\n",
       "      <td>1</td>\n",
       "      <td>1</td>\n",
       "      <td>4.1</td>\n",
       "      <td>775</td>\n",
       "      <td>Casual Dining</td>\n",
       "      <td>Pasta, Lunch Buffet, Masala Papad, Paneer Laja...</td>\n",
       "      <td>North Indian, Mughlai, Chinese</td>\n",
       "      <td>800.0</td>\n",
       "      <td>Buffet</td>\n",
       "      <td>Banashankari</td>\n",
       "      <td>12.939333</td>\n",
       "      <td>77.553982</td>\n",
       "    </tr>\n",
       "    <tr>\n",
       "      <th>1</th>\n",
       "      <td>1</td>\n",
       "      <td>0</td>\n",
       "      <td>4.1</td>\n",
       "      <td>787</td>\n",
       "      <td>Casual Dining</td>\n",
       "      <td>Momos, Lunch Buffet, Chocolate Nirvana, Thai G...</td>\n",
       "      <td>Chinese, North Indian, Thai</td>\n",
       "      <td>800.0</td>\n",
       "      <td>Buffet</td>\n",
       "      <td>Banashankari</td>\n",
       "      <td>12.939333</td>\n",
       "      <td>77.553982</td>\n",
       "    </tr>\n",
       "    <tr>\n",
       "      <th>2</th>\n",
       "      <td>1</td>\n",
       "      <td>0</td>\n",
       "      <td>3.8</td>\n",
       "      <td>918</td>\n",
       "      <td>Cafe, Casual Dining</td>\n",
       "      <td>Churros, Cannelloni, Minestrone Soup, Hot Choc...</td>\n",
       "      <td>Cafe, Mexican, Italian</td>\n",
       "      <td>800.0</td>\n",
       "      <td>Buffet</td>\n",
       "      <td>Banashankari</td>\n",
       "      <td>12.939333</td>\n",
       "      <td>77.553982</td>\n",
       "    </tr>\n",
       "    <tr>\n",
       "      <th>3</th>\n",
       "      <td>0</td>\n",
       "      <td>0</td>\n",
       "      <td>3.7</td>\n",
       "      <td>88</td>\n",
       "      <td>Quick Bites</td>\n",
       "      <td>Masala Dosa</td>\n",
       "      <td>South Indian, North Indian</td>\n",
       "      <td>300.0</td>\n",
       "      <td>Buffet</td>\n",
       "      <td>Banashankari</td>\n",
       "      <td>12.939333</td>\n",
       "      <td>77.553982</td>\n",
       "    </tr>\n",
       "    <tr>\n",
       "      <th>4</th>\n",
       "      <td>0</td>\n",
       "      <td>0</td>\n",
       "      <td>3.8</td>\n",
       "      <td>166</td>\n",
       "      <td>Casual Dining</td>\n",
       "      <td>Panipuri, Gol Gappe</td>\n",
       "      <td>North Indian, Rajasthani</td>\n",
       "      <td>600.0</td>\n",
       "      <td>Buffet</td>\n",
       "      <td>Banashankari</td>\n",
       "      <td>12.939333</td>\n",
       "      <td>77.553982</td>\n",
       "    </tr>\n",
       "  </tbody>\n",
       "</table>\n",
       "</div>"
      ],
      "text/plain": [
       "   online_order  book_table  rate  votes            rest_type  \\\n",
       "0             1           1   4.1    775        Casual Dining   \n",
       "1             1           0   4.1    787        Casual Dining   \n",
       "2             1           0   3.8    918  Cafe, Casual Dining   \n",
       "3             0           0   3.7     88          Quick Bites   \n",
       "4             0           0   3.8    166        Casual Dining   \n",
       "\n",
       "                                          dish_liked  \\\n",
       "0  Pasta, Lunch Buffet, Masala Papad, Paneer Laja...   \n",
       "1  Momos, Lunch Buffet, Chocolate Nirvana, Thai G...   \n",
       "2  Churros, Cannelloni, Minestrone Soup, Hot Choc...   \n",
       "3                                        Masala Dosa   \n",
       "4                                Panipuri, Gol Gappe   \n",
       "\n",
       "                         cuisines  approx_costfor_two_people listed_intype  \\\n",
       "0  North Indian, Mughlai, Chinese                      800.0        Buffet   \n",
       "1     Chinese, North Indian, Thai                      800.0        Buffet   \n",
       "2          Cafe, Mexican, Italian                      800.0        Buffet   \n",
       "3      South Indian, North Indian                      300.0        Buffet   \n",
       "4        North Indian, Rajasthani                      600.0        Buffet   \n",
       "\n",
       "  listed_incity   Latitude  Longitude  \n",
       "0  Banashankari  12.939333  77.553982  \n",
       "1  Banashankari  12.939333  77.553982  \n",
       "2  Banashankari  12.939333  77.553982  \n",
       "3  Banashankari  12.939333  77.553982  \n",
       "4  Banashankari  12.939333  77.553982  "
      ]
     },
     "execution_count": 49,
     "metadata": {},
     "output_type": "execute_result"
    }
   ],
   "source": [
    "merged_data.head()"
   ]
  },
  {
   "cell_type": "code",
   "execution_count": 50,
   "id": "941515fd",
   "metadata": {},
   "outputs": [
    {
     "data": {
      "text/plain": [
       "array(['Casual Dining', 'Cafe, Casual Dining', 'Quick Bites',\n",
       "       'Casual Dining, Cafe', 'Cafe', 'Quick Bites, Cafe',\n",
       "       'Cafe, Quick Bites', 'Delivery', 'Mess', 'Dessert Parlor',\n",
       "       'Bakery, Dessert Parlor', 'Pub', 'Bakery', 'Takeaway, Delivery',\n",
       "       'Fine Dining', 'Beverage Shop', 'Sweet Shop', 'Bar',\n",
       "       'Beverage Shop, Quick Bites', 'Confectionery',\n",
       "       'Quick Bites, Beverage Shop', 'Dessert Parlor, Sweet Shop',\n",
       "       'Bakery, Quick Bites', 'Sweet Shop, Quick Bites', 'Kiosk',\n",
       "       'Food Truck', 'Quick Bites, Dessert Parlor',\n",
       "       'Beverage Shop, Dessert Parlor', 'Takeaway', 'Pub, Casual Dining',\n",
       "       'Casual Dining, Bar', 'Dessert Parlor, Beverage Shop',\n",
       "       'Quick Bites, Bakery', 'Dessert Parlor, Quick Bites',\n",
       "       'Microbrewery, Casual Dining', 'Lounge', 'Bar, Casual Dining',\n",
       "       'Food Court', 'Cafe, Bakery', 'Unknown', 'Dhaba',\n",
       "       'Quick Bites, Sweet Shop', 'Microbrewery',\n",
       "       'Food Court, Quick Bites', 'Pub, Bar', 'Casual Dining, Pub',\n",
       "       'Lounge, Bar', 'Food Court, Dessert Parlor',\n",
       "       'Casual Dining, Sweet Shop', 'Food Court, Casual Dining',\n",
       "       'Casual Dining, Microbrewery', 'Sweet Shop, Dessert Parlor',\n",
       "       'Bakery, Beverage Shop', 'Lounge, Casual Dining',\n",
       "       'Cafe, Food Court', 'Beverage Shop, Cafe', 'Cafe, Dessert Parlor',\n",
       "       'Dessert Parlor, Cafe', 'Dessert Parlor, Bakery',\n",
       "       'Microbrewery, Pub', 'Bakery, Food Court', 'Club',\n",
       "       'Quick Bites, Food Court', 'Bakery, Cafe', 'Bar, Cafe',\n",
       "       'Pub, Cafe', 'Casual Dining, Irani Cafee', 'Fine Dining, Lounge',\n",
       "       'Bar, Quick Bites', 'Bakery, Kiosk', 'Pub, Microbrewery',\n",
       "       'Microbrewery, Lounge', 'Fine Dining, Microbrewery',\n",
       "       'Fine Dining, Bar', 'Mess, Quick Bites', 'Dessert Parlor, Kiosk',\n",
       "       'Bhojanalya', 'Casual Dining, Quick Bites', 'Pop Up', 'Cafe, Bar',\n",
       "       'Casual Dining, Lounge', 'Bakery, Sweet Shop', 'Microbrewery, Bar',\n",
       "       'Cafe, Lounge', 'Bar, Pub', 'Lounge, Cafe', 'Club, Casual Dining',\n",
       "       'Quick Bites, Mess', 'Quick Bites, Meat Shop',\n",
       "       'Quick Bites, Kiosk', 'Lounge, Microbrewery',\n",
       "       'Food Court, Beverage Shop', 'Dessert Parlor, Food Court',\n",
       "       'Bar, Lounge'], dtype=object)"
      ]
     },
     "execution_count": 50,
     "metadata": {},
     "output_type": "execute_result"
    }
   ],
   "source": [
    "merged_data[\"rest_type\"].unique()"
   ]
  },
  {
   "cell_type": "code",
   "execution_count": 51,
   "id": "c0900f2c",
   "metadata": {
    "scrolled": true
   },
   "outputs": [
    {
     "data": {
      "text/plain": [
       "listed_incity\n",
       "MG Road                  1213.116057\n",
       "Lavelle Road             1205.905512\n",
       "Brigade Road             1205.334395\n",
       "Church Street            1199.693252\n",
       "Residency Road           1192.998205\n",
       "Indiranagar              1068.717949\n",
       "Old Airport Road         1044.102564\n",
       "Malleshwaram              998.225806\n",
       "Whitefield                972.811671\n",
       "Frazer Town               957.936508\n",
       "Rajajinagar               897.104247\n",
       "Sarjapur Road             883.974359\n",
       "Koramangala 5th Block     869.230769\n",
       "Bellandur                 869.174041\n",
       "Koramangala 4th Block     867.387821\n",
       "Koramangala 6th Block     865.742397\n",
       "Koramangala 7th Block     859.810127\n",
       "Brookefield               857.142857\n",
       "Marathahalli              818.779343\n",
       "BTM                       816.778523\n",
       "Name: approx_costfor_two_people, dtype: float64"
      ]
     },
     "execution_count": 51,
     "metadata": {},
     "output_type": "execute_result"
    }
   ],
   "source": [
    "dining=merged_data[merged_data[\"rest_type\"].str.find(\"Dining\")!=-1]\n",
    "dining=dining.groupby([\"listed_incity\"]).agg({\"approx_costfor_two_people\":\"mean\"})\n",
    "dining[\"approx_costfor_two_people\"].nlargest(20)"
   ]
  },
  {
   "cell_type": "markdown",
   "id": "4abcd8b0",
   "metadata": {},
   "source": [
    "5. Which restaurant type has the top rating with over 1000 votes"
   ]
  },
  {
   "cell_type": "code",
   "execution_count": 52,
   "id": "a7e1b5c0",
   "metadata": {},
   "outputs": [],
   "source": [
    "over_votes=merged_data[merged_data[\"votes\"]>1000]"
   ]
  },
  {
   "cell_type": "code",
   "execution_count": 53,
   "id": "2a899fe5",
   "metadata": {},
   "outputs": [],
   "source": [
    "highest_rating=over_votes[over_votes[\"rate\"]==over_votes[\"rate\"].max()]"
   ]
  },
  {
   "cell_type": "code",
   "execution_count": 54,
   "id": "0982180c",
   "metadata": {},
   "outputs": [
    {
     "data": {
      "text/plain": [
       "rest_type\n",
       "Casual Dining, Bar    19\n",
       "Casual Dining         14\n",
       "Dessert Parlor        13\n",
       "Microbrewery           6\n",
       "Name: count, dtype: int64"
      ]
     },
     "execution_count": 54,
     "metadata": {},
     "output_type": "execute_result"
    }
   ],
   "source": [
    "highest_rating[\"rest_type\"].value_counts()"
   ]
  },
  {
   "cell_type": "markdown",
   "id": "99adc9dd",
   "metadata": {},
   "source": [
    " # How much does it cost at minimum to eat out in Bangalore?\n"
   ]
  },
  {
   "cell_type": "code",
   "execution_count": 55,
   "id": "a4b9a578",
   "metadata": {},
   "outputs": [
    {
     "data": {
      "text/plain": [
       "[20.0,\n",
       " 25.0,\n",
       " 30.0,\n",
       " 35.0,\n",
       " 40.0,\n",
       " 50.0,\n",
       " 60.0,\n",
       " 65.0,\n",
       " 70.0,\n",
       " 75.0,\n",
       " 80.0,\n",
       " 90.0,\n",
       " 95.0,\n",
       " 99.0,\n",
       " 100.0,\n",
       " 115.0,\n",
       " 120.0,\n",
       " 125.0,\n",
       " 150.0,\n",
       " 165.0,\n",
       " 175.0,\n",
       " 180.0,\n",
       " 200.0,\n",
       " 225.0,\n",
       " 234.0,\n",
       " 250.0,\n",
       " 275.0,\n",
       " 280.0,\n",
       " 300.0,\n",
       " 325.0,\n",
       " 350.0,\n",
       " 375.0,\n",
       " 400.0,\n",
       " 425.0,\n",
       " 450.0,\n",
       " 475.0,\n",
       " 500.0,\n",
       " 525.0,\n",
       " 550.0,\n",
       " 600.0,\n",
       " 625.0,\n",
       " 650.0,\n",
       " 675.0,\n",
       " 700.0,\n",
       " 725.0,\n",
       " 750.0,\n",
       " 800.0,\n",
       " 825.0,\n",
       " 850.0,\n",
       " 900.0,\n",
       " 950.0,\n",
       " 1000.0,\n",
       " 1050.0,\n",
       " 1100.0,\n",
       " 1150.0,\n",
       " 1200.0,\n",
       " 1250.0,\n",
       " 1300.0,\n",
       " 1350.0,\n",
       " 1400.0,\n",
       " 1500.0,\n",
       " 1600.0,\n",
       " 1700.0,\n",
       " 1750.0,\n",
       " 1850.0,\n",
       " 2000.0,\n",
       " 2050.0,\n",
       " 2250.0,\n",
       " 2500.0,\n",
       " 3000.0]"
      ]
     },
     "execution_count": 55,
     "metadata": {},
     "output_type": "execute_result"
    }
   ],
   "source": [
    "l=merged_data[\"approx_costfor_two_people\"].unique().tolist()\n",
    "l.sort()\n",
    "l=[i//2 for i in l]\n",
    "l"
   ]
  },
  {
   "cell_type": "markdown",
   "id": "50f5b3f2",
   "metadata": {},
   "source": [
    "# What percentage of total online orders is received by restaurants in Banashankari?"
   ]
  },
  {
   "cell_type": "code",
   "execution_count": 56,
   "id": "efbe3b0a",
   "metadata": {},
   "outputs": [
    {
     "data": {
      "text/html": [
       "<div>\n",
       "<style scoped>\n",
       "    .dataframe tbody tr th:only-of-type {\n",
       "        vertical-align: middle;\n",
       "    }\n",
       "\n",
       "    .dataframe tbody tr th {\n",
       "        vertical-align: top;\n",
       "    }\n",
       "\n",
       "    .dataframe thead th {\n",
       "        text-align: right;\n",
       "    }\n",
       "</style>\n",
       "<table border=\"1\" class=\"dataframe\">\n",
       "  <thead>\n",
       "    <tr style=\"text-align: right;\">\n",
       "      <th></th>\n",
       "      <th>online_order</th>\n",
       "      <th>book_table</th>\n",
       "      <th>rate</th>\n",
       "      <th>votes</th>\n",
       "      <th>rest_type</th>\n",
       "      <th>dish_liked</th>\n",
       "      <th>cuisines</th>\n",
       "      <th>approx_costfor_two_people</th>\n",
       "      <th>listed_intype</th>\n",
       "      <th>listed_incity</th>\n",
       "      <th>Latitude</th>\n",
       "      <th>Longitude</th>\n",
       "    </tr>\n",
       "  </thead>\n",
       "  <tbody>\n",
       "    <tr>\n",
       "      <th>0</th>\n",
       "      <td>1</td>\n",
       "      <td>1</td>\n",
       "      <td>4.1</td>\n",
       "      <td>775</td>\n",
       "      <td>Casual Dining</td>\n",
       "      <td>Pasta, Lunch Buffet, Masala Papad, Paneer Laja...</td>\n",
       "      <td>North Indian, Mughlai, Chinese</td>\n",
       "      <td>800.0</td>\n",
       "      <td>Buffet</td>\n",
       "      <td>Banashankari</td>\n",
       "      <td>12.939333</td>\n",
       "      <td>77.553982</td>\n",
       "    </tr>\n",
       "    <tr>\n",
       "      <th>1</th>\n",
       "      <td>1</td>\n",
       "      <td>0</td>\n",
       "      <td>4.1</td>\n",
       "      <td>787</td>\n",
       "      <td>Casual Dining</td>\n",
       "      <td>Momos, Lunch Buffet, Chocolate Nirvana, Thai G...</td>\n",
       "      <td>Chinese, North Indian, Thai</td>\n",
       "      <td>800.0</td>\n",
       "      <td>Buffet</td>\n",
       "      <td>Banashankari</td>\n",
       "      <td>12.939333</td>\n",
       "      <td>77.553982</td>\n",
       "    </tr>\n",
       "    <tr>\n",
       "      <th>2</th>\n",
       "      <td>1</td>\n",
       "      <td>0</td>\n",
       "      <td>3.8</td>\n",
       "      <td>918</td>\n",
       "      <td>Cafe, Casual Dining</td>\n",
       "      <td>Churros, Cannelloni, Minestrone Soup, Hot Choc...</td>\n",
       "      <td>Cafe, Mexican, Italian</td>\n",
       "      <td>800.0</td>\n",
       "      <td>Buffet</td>\n",
       "      <td>Banashankari</td>\n",
       "      <td>12.939333</td>\n",
       "      <td>77.553982</td>\n",
       "    </tr>\n",
       "    <tr>\n",
       "      <th>5</th>\n",
       "      <td>1</td>\n",
       "      <td>0</td>\n",
       "      <td>3.8</td>\n",
       "      <td>286</td>\n",
       "      <td>Casual Dining</td>\n",
       "      <td>Onion Rings, Pasta, Kadhai Paneer, Salads, Sal...</td>\n",
       "      <td>North Indian</td>\n",
       "      <td>600.0</td>\n",
       "      <td>Buffet</td>\n",
       "      <td>Banashankari</td>\n",
       "      <td>12.939333</td>\n",
       "      <td>77.553982</td>\n",
       "    </tr>\n",
       "    <tr>\n",
       "      <th>7</th>\n",
       "      <td>1</td>\n",
       "      <td>1</td>\n",
       "      <td>4.6</td>\n",
       "      <td>2556</td>\n",
       "      <td>Casual Dining, Cafe</td>\n",
       "      <td>Farmhouse Pizza, Chocolate Banana, Virgin Moji...</td>\n",
       "      <td>Pizza, Cafe, Italian</td>\n",
       "      <td>600.0</td>\n",
       "      <td>Cafes</td>\n",
       "      <td>Banashankari</td>\n",
       "      <td>12.939333</td>\n",
       "      <td>77.553982</td>\n",
       "    </tr>\n",
       "    <tr>\n",
       "      <th>...</th>\n",
       "      <td>...</td>\n",
       "      <td>...</td>\n",
       "      <td>...</td>\n",
       "      <td>...</td>\n",
       "      <td>...</td>\n",
       "      <td>...</td>\n",
       "      <td>...</td>\n",
       "      <td>...</td>\n",
       "      <td>...</td>\n",
       "      <td>...</td>\n",
       "      <td>...</td>\n",
       "      <td>...</td>\n",
       "    </tr>\n",
       "    <tr>\n",
       "      <th>839</th>\n",
       "      <td>1</td>\n",
       "      <td>0</td>\n",
       "      <td>3.7</td>\n",
       "      <td>57</td>\n",
       "      <td>Quick Bites</td>\n",
       "      <td>Not Available</td>\n",
       "      <td>Juices, South Indian, Chinese, Fast Food</td>\n",
       "      <td>200.0</td>\n",
       "      <td>Dine-out</td>\n",
       "      <td>Banashankari</td>\n",
       "      <td>12.939333</td>\n",
       "      <td>77.553982</td>\n",
       "    </tr>\n",
       "    <tr>\n",
       "      <th>840</th>\n",
       "      <td>1</td>\n",
       "      <td>0</td>\n",
       "      <td>3.2</td>\n",
       "      <td>71</td>\n",
       "      <td>Quick Bites</td>\n",
       "      <td>Not Available</td>\n",
       "      <td>Burger, Fast Food, Beverages</td>\n",
       "      <td>600.0</td>\n",
       "      <td>Dine-out</td>\n",
       "      <td>Banashankari</td>\n",
       "      <td>12.939333</td>\n",
       "      <td>77.553982</td>\n",
       "    </tr>\n",
       "    <tr>\n",
       "      <th>841</th>\n",
       "      <td>1</td>\n",
       "      <td>0</td>\n",
       "      <td>3.7</td>\n",
       "      <td>0</td>\n",
       "      <td>Quick Bites</td>\n",
       "      <td>Not Available</td>\n",
       "      <td>North Indian, Chinese</td>\n",
       "      <td>300.0</td>\n",
       "      <td>Dine-out</td>\n",
       "      <td>Banashankari</td>\n",
       "      <td>12.939333</td>\n",
       "      <td>77.553982</td>\n",
       "    </tr>\n",
       "    <tr>\n",
       "      <th>851</th>\n",
       "      <td>1</td>\n",
       "      <td>0</td>\n",
       "      <td>3.2</td>\n",
       "      <td>11</td>\n",
       "      <td>Quick Bites</td>\n",
       "      <td>Not Available</td>\n",
       "      <td>Beverages, Fast Food</td>\n",
       "      <td>150.0</td>\n",
       "      <td>Dine-out</td>\n",
       "      <td>Banashankari</td>\n",
       "      <td>12.939333</td>\n",
       "      <td>77.553982</td>\n",
       "    </tr>\n",
       "    <tr>\n",
       "      <th>852</th>\n",
       "      <td>1</td>\n",
       "      <td>0</td>\n",
       "      <td>3.6</td>\n",
       "      <td>17</td>\n",
       "      <td>Quick Bites</td>\n",
       "      <td>Not Available</td>\n",
       "      <td>Chinese, Fast Food</td>\n",
       "      <td>300.0</td>\n",
       "      <td>Dine-out</td>\n",
       "      <td>Banashankari</td>\n",
       "      <td>12.939333</td>\n",
       "      <td>77.553982</td>\n",
       "    </tr>\n",
       "  </tbody>\n",
       "</table>\n",
       "<p>546 rows × 12 columns</p>\n",
       "</div>"
      ],
      "text/plain": [
       "     online_order  book_table  rate  votes            rest_type  \\\n",
       "0               1           1   4.1    775        Casual Dining   \n",
       "1               1           0   4.1    787        Casual Dining   \n",
       "2               1           0   3.8    918  Cafe, Casual Dining   \n",
       "5               1           0   3.8    286        Casual Dining   \n",
       "7               1           1   4.6   2556  Casual Dining, Cafe   \n",
       "..            ...         ...   ...    ...                  ...   \n",
       "839             1           0   3.7     57          Quick Bites   \n",
       "840             1           0   3.2     71          Quick Bites   \n",
       "841             1           0   3.7      0          Quick Bites   \n",
       "851             1           0   3.2     11          Quick Bites   \n",
       "852             1           0   3.6     17          Quick Bites   \n",
       "\n",
       "                                            dish_liked  \\\n",
       "0    Pasta, Lunch Buffet, Masala Papad, Paneer Laja...   \n",
       "1    Momos, Lunch Buffet, Chocolate Nirvana, Thai G...   \n",
       "2    Churros, Cannelloni, Minestrone Soup, Hot Choc...   \n",
       "5    Onion Rings, Pasta, Kadhai Paneer, Salads, Sal...   \n",
       "7    Farmhouse Pizza, Chocolate Banana, Virgin Moji...   \n",
       "..                                                 ...   \n",
       "839                                      Not Available   \n",
       "840                                      Not Available   \n",
       "841                                      Not Available   \n",
       "851                                      Not Available   \n",
       "852                                      Not Available   \n",
       "\n",
       "                                     cuisines  approx_costfor_two_people  \\\n",
       "0              North Indian, Mughlai, Chinese                      800.0   \n",
       "1                 Chinese, North Indian, Thai                      800.0   \n",
       "2                      Cafe, Mexican, Italian                      800.0   \n",
       "5                                North Indian                      600.0   \n",
       "7                        Pizza, Cafe, Italian                      600.0   \n",
       "..                                        ...                        ...   \n",
       "839  Juices, South Indian, Chinese, Fast Food                      200.0   \n",
       "840              Burger, Fast Food, Beverages                      600.0   \n",
       "841                     North Indian, Chinese                      300.0   \n",
       "851                      Beverages, Fast Food                      150.0   \n",
       "852                        Chinese, Fast Food                      300.0   \n",
       "\n",
       "    listed_intype listed_incity   Latitude  Longitude  \n",
       "0          Buffet  Banashankari  12.939333  77.553982  \n",
       "1          Buffet  Banashankari  12.939333  77.553982  \n",
       "2          Buffet  Banashankari  12.939333  77.553982  \n",
       "5          Buffet  Banashankari  12.939333  77.553982  \n",
       "7           Cafes  Banashankari  12.939333  77.553982  \n",
       "..            ...           ...        ...        ...  \n",
       "839      Dine-out  Banashankari  12.939333  77.553982  \n",
       "840      Dine-out  Banashankari  12.939333  77.553982  \n",
       "841      Dine-out  Banashankari  12.939333  77.553982  \n",
       "851      Dine-out  Banashankari  12.939333  77.553982  \n",
       "852      Dine-out  Banashankari  12.939333  77.553982  \n",
       "\n",
       "[546 rows x 12 columns]"
      ]
     },
     "execution_count": 56,
     "metadata": {},
     "output_type": "execute_result"
    }
   ],
   "source": [
    "total_banashankari=merged_data[(merged_data[\"online_order\"]==1) & (merged_data[\"listed_incity\"]==\"Banashankari\")]\n",
    "total_banashankari"
   ]
  },
  {
   "cell_type": "code",
   "execution_count": 57,
   "id": "f686b1ae",
   "metadata": {},
   "outputs": [
    {
     "data": {
      "text/plain": [
       "30444"
      ]
     },
     "execution_count": 57,
     "metadata": {},
     "output_type": "execute_result"
    }
   ],
   "source": [
    "len(merged_data[(merged_data[\"online_order\"]==1)])"
   ]
  },
  {
   "cell_type": "code",
   "execution_count": 58,
   "id": "51ea923f",
   "metadata": {},
   "outputs": [
    {
     "data": {
      "text/plain": [
       "1.7934568387859677"
      ]
     },
     "execution_count": 58,
     "metadata": {},
     "output_type": "execute_result"
    }
   ],
   "source": [
    "len(total_banashankari)/len(merged_data[(merged_data[\"online_order\"]==1)])*100"
   ]
  },
  {
   "cell_type": "markdown",
   "id": "e938d948",
   "metadata": {},
   "source": [
    "# Total percentage of online orders"
   ]
  },
  {
   "cell_type": "code",
   "execution_count": 59,
   "id": "18b89745",
   "metadata": {},
   "outputs": [
    {
     "data": {
      "text/plain": [
       "58.86652358025407"
      ]
     },
     "execution_count": 59,
     "metadata": {},
     "output_type": "execute_result"
    }
   ],
   "source": [
    "len(merged_data[(merged_data[\"online_order\"]==1)])/len(df)*100"
   ]
  },
  {
   "cell_type": "markdown",
   "id": "683c4610",
   "metadata": {},
   "source": [
    "# Which locality has the most restaurants with over 500 votes and a rating below 3.0?"
   ]
  },
  {
   "cell_type": "code",
   "execution_count": 60,
   "id": "0464d19b",
   "metadata": {},
   "outputs": [
    {
     "data": {
      "text/plain": [
       "listed_incity\n",
       "Brookefield              8\n",
       "Whitefield               6\n",
       "Indiranagar              4\n",
       "Old Airport Road         4\n",
       "Bellandur                3\n",
       "Marathahalli             3\n",
       "Banashankari             2\n",
       "Koramangala 4th Block    2\n",
       "Koramangala 5th Block    2\n",
       "Koramangala 6th Block    2\n",
       "Koramangala 7th Block    2\n",
       "Sarjapur Road            2\n",
       "HSR                      1\n",
       "Kalyan Nagar             1\n",
       "Kammanahalli             1\n",
       "Name: count, dtype: int64"
      ]
     },
     "execution_count": 60,
     "metadata": {},
     "output_type": "execute_result"
    }
   ],
   "source": [
    "merged_data[(merged_data[\"votes\"]>=500) & (merged_data[\"rate\"]<3.0)][\"listed_incity\"].value_counts()"
   ]
  },
  {
   "cell_type": "markdown",
   "id": "0a708911",
   "metadata": {},
   "source": [
    "# In which area should Zomato invest by considering high rating (rate > 4.2), high number of votes (> 500) and including online orders?"
   ]
  },
  {
   "cell_type": "code",
   "execution_count": 61,
   "id": "ed53026d",
   "metadata": {},
   "outputs": [
    {
     "data": {
      "text/plain": [
       "listed_incity\n",
       "Koramangala 7th Block    97\n",
       "MG Road                  97\n",
       "Church Street            95\n",
       "Koramangala 4th Block    95\n",
       "Brigade Road             94\n",
       "Koramangala 5th Block    92\n",
       "BTM                      91\n",
       "Koramangala 6th Block    90\n",
       "Lavelle Road             82\n",
       "Residency Road           81\n",
       "Indiranagar              80\n",
       "Old Airport Road         64\n",
       "Frazer Town              56\n",
       "Jayanagar                56\n",
       "Bellandur                55\n",
       "Whitefield               44\n",
       "Sarjapur Road            43\n",
       "HSR                      41\n",
       "JP Nagar                 38\n",
       "Brookefield              34\n",
       "Marathahalli             32\n",
       "Malleshwaram             31\n",
       "Basavanagudi             24\n",
       "Kammanahalli             23\n",
       "Kalyan Nagar             23\n",
       "Rajajinagar              22\n",
       "Bannerghatta Road        19\n",
       "Banashankari             11\n",
       "New BEL Road              9\n",
       "Electronic City           7\n",
       "Name: count, dtype: int64"
      ]
     },
     "execution_count": 61,
     "metadata": {},
     "output_type": "execute_result"
    }
   ],
   "source": [
    "merged_data[(merged_data[\"rate\"]>4.2) &  (merged_data[\"votes\"]>500) & (merged_data[\"online_order\"]==1)][\"listed_incity\"].value_counts()"
   ]
  },
  {
   "cell_type": "markdown",
   "id": "ccab0d50",
   "metadata": {},
   "source": [
    "# What is the average rating of restaurants that serve both North Indian and Chinese cuisines?"
   ]
  },
  {
   "cell_type": "code",
   "execution_count": 72,
   "id": "a4ebe463",
   "metadata": {},
   "outputs": [],
   "source": [
    "both=merged_data[(merged_data[\"cuisines\"].str.find(\"North Indian\")!=-1) & (merged_data[\"cuisines\"].str.find(\"Chinese\")!=-1)]"
   ]
  },
  {
   "cell_type": "code",
   "execution_count": 73,
   "id": "e6420941",
   "metadata": {},
   "outputs": [
    {
     "data": {
      "text/plain": [
       "3.5919080217658412"
      ]
     },
     "execution_count": 73,
     "metadata": {},
     "output_type": "execute_result"
    }
   ],
   "source": [
    "both[\"rate\"].mean()"
   ]
  },
  {
   "cell_type": "markdown",
   "id": "5e92bd63",
   "metadata": {},
   "source": [
    "#  What is the maximum number of votes received by any restaurant with online ordering"
   ]
  },
  {
   "cell_type": "code",
   "execution_count": 75,
   "id": "296196f2",
   "metadata": {},
   "outputs": [
    {
     "data": {
      "text/plain": [
       "16832"
      ]
     },
     "execution_count": 75,
     "metadata": {},
     "output_type": "execute_result"
    }
   ],
   "source": [
    "merged_data[merged_data[\"online_order\"]==1][\"votes\"].max()"
   ]
  },
  {
   "cell_type": "markdown",
   "id": "1a7d808b",
   "metadata": {},
   "source": [
    "# What's the average cost difference between buffet and delivery restaurants"
   ]
  },
  {
   "cell_type": "code",
   "execution_count": 82,
   "id": "874367c5",
   "metadata": {},
   "outputs": [],
   "source": [
    "d1=merged_data[merged_data[\"listed_intype\"]==\"Buffet\"][\"approx_costfor_two_people\"].mean()"
   ]
  },
  {
   "cell_type": "code",
   "execution_count": 83,
   "id": "7eb4570a",
   "metadata": {},
   "outputs": [],
   "source": [
    "d2=merged_data[merged_data[\"listed_intype\"]==\"Delivery\"][\"approx_costfor_two_people\"].mean()"
   ]
  },
  {
   "cell_type": "code",
   "execution_count": 84,
   "id": "e6029a76",
   "metadata": {},
   "outputs": [
    {
     "data": {
      "text/plain": [
       "831.2513659898209"
      ]
     },
     "execution_count": 84,
     "metadata": {},
     "output_type": "execute_result"
    }
   ],
   "source": [
    "d1-d2"
   ]
  },
  {
   "cell_type": "code",
   "execution_count": null,
   "id": "4291fbe9",
   "metadata": {},
   "outputs": [],
   "source": []
  }
 ],
 "metadata": {
  "kernelspec": {
   "display_name": "Python 3 (ipykernel)",
   "language": "python",
   "name": "python3"
  },
  "language_info": {
   "codemirror_mode": {
    "name": "ipython",
    "version": 3
   },
   "file_extension": ".py",
   "mimetype": "text/x-python",
   "name": "python",
   "nbconvert_exporter": "python",
   "pygments_lexer": "ipython3",
   "version": "3.10.9"
  }
 },
 "nbformat": 4,
 "nbformat_minor": 5
}
